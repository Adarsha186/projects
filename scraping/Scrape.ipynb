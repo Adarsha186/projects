{
 "cells": [
  {
   "cell_type": "code",
   "execution_count": 95,
   "id": "617e4d21",
   "metadata": {},
   "outputs": [],
   "source": [
    "import requests\n",
    "from bs4 import BeautifulSoup\n",
    "import json\n",
    "import numpy as np\n",
    "import pandas as pd"
   ]
  },
  {
   "cell_type": "code",
   "execution_count": 96,
   "id": "c1b10d24",
   "metadata": {},
   "outputs": [
    {
     "name": "stdout",
     "output_type": "stream",
     "text": [
      "200\n"
     ]
    }
   ],
   "source": [
    "headers={'User Agent':'Mozilla/5.0 (Windows NT 10.0; Win64; x64) AppleWebKit/537.36 (KHTML, like Gecko) Chrome/113.0.0.0 Safari/537.36 Edg/113.0.1774.42'}\n",
    "symbol='JPY=X'\n",
    "url=f'https://finance.yahoo.com/quote/{symbol}'\n",
    "r=requests.get(url)\n",
    "#print(r.text)\n",
    "print(r.status_code)"
   ]
  },
  {
   "cell_type": "code",
   "execution_count": 97,
   "id": "b9394b51",
   "metadata": {},
   "outputs": [
    {
     "name": "stdout",
     "output_type": "stream",
     "text": [
      "USD/JPY (JPY=X) Live Rate, Chart & News - Yahoo Finance\n"
     ]
    }
   ],
   "source": [
    "soup=BeautifulSoup(r.text,'html.parser')\n",
    "print(soup.title.text)"
   ]
  },
  {
   "cell_type": "code",
   "execution_count": 98,
   "id": "84e05cb6",
   "metadata": {},
   "outputs": [
    {
     "name": "stdout",
     "output_type": "stream",
     "text": [
      "134.2930\n"
     ]
    }
   ],
   "source": [
    "price=soup.find('fin-streamer',{'class':'Fw(b) Fz(36px) Mb(-4px) D(ib)'}).text\n",
    "print(price)"
   ]
  },
  {
   "cell_type": "code",
   "execution_count": 99,
   "id": "92d190ba",
   "metadata": {},
   "outputs": [
    {
     "name": "stdout",
     "output_type": "stream",
     "text": [
      "-0.3330\n"
     ]
    }
   ],
   "source": [
    "change=soup.find('fin-streamer',{'class':'Fw(500) Pstart(8px) Fz(24px)'}).text\n",
    "print(change)"
   ]
  },
  {
   "cell_type": "code",
   "execution_count": 100,
   "id": "65e19012",
   "metadata": {},
   "outputs": [
    {
     "data": {
      "text/plain": [
       "'134.2930'"
      ]
     },
     "execution_count": 100,
     "metadata": {},
     "output_type": "execute_result"
    }
   ],
   "source": [
    "stock=soup.find('div',{'class':'D(ib) Mend(20px)'}).find_all('fin-streamer')[0].text\n",
    "stock"
   ]
  },
  {
   "cell_type": "code",
   "execution_count": 101,
   "id": "ccd83c08",
   "metadata": {},
   "outputs": [
    {
     "name": "stdout",
     "output_type": "stream",
     "text": [
      "Top 250 Movies - IMDb\n"
     ]
    }
   ],
   "source": [
    "url='https://www.imdb.com/chart/top/'\n",
    "r=requests.get(url)\n",
    "soup=BeautifulSoup(r.text,'html.parser')\n",
    "print(soup.title.text)"
   ]
  },
  {
   "cell_type": "code",
   "execution_count": 113,
   "id": "92600ca4",
   "metadata": {},
   "outputs": [
    {
     "name": "stdout",
     "output_type": "stream",
     "text": [
      "\n",
      "      1.\n",
      "      The Shawshank Redemption\n",
      "(1994)\n",
      "\n"
     ]
    }
   ],
   "source": [
    "movie_name = soup.find_all('td',{'class':'titleColumn'})\n",
    "titles=[]\n",
    "for m in movie_name:\n",
    "    titles.append(m.text)\n",
    "print(titles[0])\n",
    "titles=numpy.array(titles)"
   ]
  },
  {
   "cell_type": "code",
   "execution_count": 119,
   "id": "0a3acacd",
   "metadata": {},
   "outputs": [
    {
     "name": "stdout",
     "output_type": "stream",
     "text": [
      "(1994)\n",
      "(1994)\n"
     ]
    }
   ],
   "source": [
    "movie_year = soup.find_all('span',{'class':'secondaryInfo'})\n",
    "year=[]\n",
    "for m in movie_year:\n",
    "    year.append(m.text)\n",
    "print(year[0])\n",
    "year=numpy.array(year)"
   ]
  },
  {
   "cell_type": "code",
   "execution_count": 120,
   "id": "a1a546b8",
   "metadata": {},
   "outputs": [
    {
     "name": "stdout",
     "output_type": "stream",
     "text": [
      "\n",
      "9.2\n",
      "\n"
     ]
    }
   ],
   "source": [
    "movie_rating = soup.find_all('td',{'class':'ratingColumn imdbRating'})\n",
    "rating=[]\n",
    "for m in movie_rating:\n",
    "    rating.append(m.text)\n",
    "print(rating[0])\n",
    "rating=numpy.array(rating)"
   ]
  },
  {
   "cell_type": "code",
   "execution_count": 123,
   "id": "e720e382",
   "metadata": {},
   "outputs": [
    {
     "data": {
      "text/html": [
       "<div>\n",
       "<style scoped>\n",
       "    .dataframe tbody tr th:only-of-type {\n",
       "        vertical-align: middle;\n",
       "    }\n",
       "\n",
       "    .dataframe tbody tr th {\n",
       "        vertical-align: top;\n",
       "    }\n",
       "\n",
       "    .dataframe thead th {\n",
       "        text-align: right;\n",
       "    }\n",
       "</style>\n",
       "<table border=\"1\" class=\"dataframe\">\n",
       "  <thead>\n",
       "    <tr style=\"text-align: right;\">\n",
       "      <th></th>\n",
       "      <th>Title</th>\n",
       "      <th>Year</th>\n",
       "      <th>Rating</th>\n",
       "    </tr>\n",
       "  </thead>\n",
       "  <tbody>\n",
       "    <tr>\n",
       "      <th>0</th>\n",
       "      <td>\\n      1.\\n      The Shawshank Redemption\\n(1...</td>\n",
       "      <td>(1994)</td>\n",
       "      <td>\\n9.2\\n</td>\n",
       "    </tr>\n",
       "    <tr>\n",
       "      <th>1</th>\n",
       "      <td>\\n      2.\\n      The Godfather\\n(1972)\\n</td>\n",
       "      <td>(1972)</td>\n",
       "      <td>\\n9.2\\n</td>\n",
       "    </tr>\n",
       "    <tr>\n",
       "      <th>2</th>\n",
       "      <td>\\n      3.\\n      The Dark Knight\\n(2008)\\n</td>\n",
       "      <td>(2008)</td>\n",
       "      <td>\\n9.0\\n</td>\n",
       "    </tr>\n",
       "    <tr>\n",
       "      <th>3</th>\n",
       "      <td>\\n      4.\\n      The Godfather Part II\\n(1974)\\n</td>\n",
       "      <td>(1974)</td>\n",
       "      <td>\\n9.0\\n</td>\n",
       "    </tr>\n",
       "    <tr>\n",
       "      <th>4</th>\n",
       "      <td>\\n      5.\\n      12 Angry Men\\n(1957)\\n</td>\n",
       "      <td>(1957)</td>\n",
       "      <td>\\n9.0\\n</td>\n",
       "    </tr>\n",
       "  </tbody>\n",
       "</table>\n",
       "</div>"
      ],
      "text/plain": [
       "                                               Title    Year   Rating\n",
       "0  \\n      1.\\n      The Shawshank Redemption\\n(1...  (1994)  \\n9.2\\n\n",
       "1          \\n      2.\\n      The Godfather\\n(1972)\\n  (1972)  \\n9.2\\n\n",
       "2        \\n      3.\\n      The Dark Knight\\n(2008)\\n  (2008)  \\n9.0\\n\n",
       "3  \\n      4.\\n      The Godfather Part II\\n(1974)\\n  (1974)  \\n9.0\\n\n",
       "4           \\n      5.\\n      12 Angry Men\\n(1957)\\n  (1957)  \\n9.0\\n"
      ]
     },
     "execution_count": 123,
     "metadata": {},
     "output_type": "execute_result"
    }
   ],
   "source": [
    "df = pd.DataFrame({'Title': titles,\n",
    "                   'Year': year,\n",
    "                   'Rating': rating})\n"
   ]
  },
  {
   "cell_type": "code",
   "execution_count": 125,
   "id": "5e01706c",
   "metadata": {},
   "outputs": [],
   "source": [
    "df.to_csv('file.csv')"
   ]
  },
  {
   "cell_type": "code",
   "execution_count": 126,
   "id": "5ac82754",
   "metadata": {},
   "outputs": [
    {
     "name": "stdout",
     "output_type": "stream",
     "text": [
      "     Unnamed: 0                                              Title    Year  \\\n",
      "0             0  \\n      1.\\n      The Shawshank Redemption\\n(1...  (1994)   \n",
      "1             1          \\n      2.\\n      The Godfather\\n(1972)\\n  (1972)   \n",
      "2             2        \\n      3.\\n      The Dark Knight\\n(2008)\\n  (2008)   \n",
      "3             3  \\n      4.\\n      The Godfather Part II\\n(1974)\\n  (1974)   \n",
      "4             4           \\n      5.\\n      12 Angry Men\\n(1957)\\n  (1957)   \n",
      "..          ...                                                ...     ...   \n",
      "245         245        \\n      246.\\n      Life of Brian\\n(1979)\\n  (1979)   \n",
      "246         246       \\n      247.\\n      The Iron Giant\\n(1999)\\n  (1999)   \n",
      "247         247             \\n      248.\\n      The Help\\n(2011)\\n  (2011)   \n",
      "248         248              \\n      249.\\n      Aladdin\\n(1992)\\n  (1992)   \n",
      "249         249   \\n      250.\\n      Dances with Wolves\\n(1990)\\n  (1990)   \n",
      "\n",
      "     Rating  \n",
      "0       9.2  \n",
      "1       9.2  \n",
      "2       9.0  \n",
      "3       9.0  \n",
      "4       9.0  \n",
      "..      ...  \n",
      "245     8.0  \n",
      "246     8.0  \n",
      "247     8.0  \n",
      "248     8.0  \n",
      "249     8.0  \n",
      "\n",
      "[250 rows x 4 columns]\n"
     ]
    }
   ],
   "source": [
    "df = pd.read_csv ('file.csv')"
   ]
  },
  {
   "cell_type": "code",
   "execution_count": null,
   "id": "d255eec4",
   "metadata": {},
   "outputs": [],
   "source": []
  }
 ],
 "metadata": {
  "kernelspec": {
   "display_name": "Python 3 (ipykernel)",
   "language": "python",
   "name": "python3"
  },
  "language_info": {
   "codemirror_mode": {
    "name": "ipython",
    "version": 3
   },
   "file_extension": ".py",
   "mimetype": "text/x-python",
   "name": "python",
   "nbconvert_exporter": "python",
   "pygments_lexer": "ipython3",
   "version": "3.10.9"
  }
 },
 "nbformat": 4,
 "nbformat_minor": 5
}
